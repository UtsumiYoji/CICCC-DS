{
 "cells": [
  {
   "cell_type": "markdown",
   "metadata": {},
   "source": [
    "Instructions\n",
    "For each question, follow these steps:\n",
    "1. State the Null Hypothesis (H0) and Alternative Hypothesis (H1).\n",
    "2. Calculate the Z-score and p-value.\n",
    "3. Compare the p-value with the significance level (α = 0.05).\n",
    "4. Draw a conclusion: Decide whether to reject or fail to reject the null\n",
    "hypothesis."
   ]
  },
  {
   "cell_type": "code",
   "execution_count": 1,
   "metadata": {},
   "outputs": [],
   "source": [
    "from scipy import stats\n",
    "import numpy as np\n",
    "\n",
    "def mean_based_z_test(pop_mean, sample_mean, sample_std, sample_size):\n",
    "    z = (sample_mean - pop_mean) / (sample_std / np.sqrt(sample_size))\n",
    "    p = 2 * (1 - stats.norm.cdf(np.abs(z)))\n",
    "\n",
    "    print(\"p-value\", p)\n",
    "    if p < 0.05:\n",
    "        print(\"The null hypothesis can be rejected.\")\n",
    "    else:\n",
    "        print(\"The null hypothesis cannot be rejected.\")\n",
    "    "
   ]
  },
  {
   "cell_type": "markdown",
   "metadata": {},
   "source": [
    "Question 1: Average Time on a Website  \n",
    "Scenario: A website owner claims that the average time a visitor spends on their site is 10 minutes. A sample of 50 visitors shows an average time of 9.5 minutes with a standard deviation of 1.8 minutes.  \n",
    "Task: Test the website owner's claim at a 5% significance level."
   ]
  },
  {
   "cell_type": "code",
   "execution_count": 2,
   "metadata": {},
   "outputs": [
    {
     "name": "stdout",
     "output_type": "stream",
     "text": [
      "p-value 0.04950858334615771\n",
      "The null hypothesis can be rejected.\n"
     ]
    }
   ],
   "source": [
    "n = 50\n",
    "sample_mean = 9.5\n",
    "sample_std = 1.8\n",
    "mu_0 = 10\n",
    "\n",
    "mean_based_z_test(mu_0, sample_mean, sample_std, n)"
   ]
  },
  {
   "cell_type": "markdown",
   "metadata": {},
   "source": [
    "Question 2: Battery Life of Smartphones  \n",
    "Scenario: A smartphone manufacturer claims that the average battery life of their new model is 15 hours. A sample of 40 phones shows an average battery life of 14.5 hours with a standard deviation of 1.2 hours.  \n",
    "Task: Test the manufacturer's claim at a 5% significance level."
   ]
  },
  {
   "cell_type": "code",
   "execution_count": 3,
   "metadata": {},
   "outputs": [
    {
     "name": "stdout",
     "output_type": "stream",
     "text": [
      "p-value 0.008407994577249278\n",
      "The null hypothesis can be rejected.\n"
     ]
    }
   ],
   "source": [
    "n = 40\n",
    "sample_mean = 14.5\n",
    "sample_std = 1.2\n",
    "mu_0 = 15\n",
    "\n",
    "mean_based_z_test(mu_0, sample_mean, sample_std, n)"
   ]
  },
  {
   "cell_type": "markdown",
   "metadata": {},
   "source": [
    "Question 3: Average Weekly Hours Worked  \n",
    "Scenario: A company claims that their employees work an average of 40 hours per week. A sample of 60 employees shows an average workweek of 39.2 hours with a standard deviation of 2.5 hours.  \n",
    "Task: Test the company's claim at a 5% significance level.  "
   ]
  },
  {
   "cell_type": "code",
   "execution_count": 4,
   "metadata": {},
   "outputs": [
    {
     "name": "stdout",
     "output_type": "stream",
     "text": [
      "p-value 0.013185870851466053\n",
      "The null hypothesis can be rejected.\n"
     ]
    }
   ],
   "source": [
    "n = 60\n",
    "sample_mean = 39.2\n",
    "sample_std = 2.5\n",
    "mu_0 = 40\n",
    "\n",
    "mean_based_z_test(mu_0, sample_mean, sample_std, n)"
   ]
  },
  {
   "cell_type": "markdown",
   "metadata": {},
   "source": [
    "Question 4: Weight of Packaged Goods  \n",
    "Scenario: A food processing company claims that their packaged goods weigh an average of 500 grams. A sample of 80 packages shows an average weight of 495 grams with a standard deviation of 8 grams.  \n",
    "Task: Test the company's claim at a 5% significance level."
   ]
  },
  {
   "cell_type": "code",
   "execution_count": 5,
   "metadata": {},
   "outputs": [
    {
     "name": "stdout",
     "output_type": "stream",
     "text": [
      "p-value 2.2684748524071097e-08\n",
      "The null hypothesis can be rejected.\n"
     ]
    }
   ],
   "source": [
    "n = 80\n",
    "sample_mean = 495\n",
    "sample_std = 8\n",
    "mu_0 = 500\n",
    "\n",
    "mean_based_z_test(mu_0, sample_mean, sample_std, n)"
   ]
  },
  {
   "cell_type": "markdown",
   "metadata": {},
   "source": [
    "Question 5: Average Speed of Delivery  \n",
    "Scenario: A delivery company claims that the average delivery time for their services is 2.5 hours. A sample of 45 deliveries shows an average delivery time of 2.7 hours with a standard deviation of 0.4 hours.  \n",
    "Task: Test the company's claim at a 5% significance level."
   ]
  },
  {
   "cell_type": "code",
   "execution_count": 6,
   "metadata": {},
   "outputs": [
    {
     "name": "stdout",
     "output_type": "stream",
     "text": [
      "p-value 0.0007962301575907826\n",
      "The null hypothesis can be rejected.\n"
     ]
    }
   ],
   "source": [
    "n = 45\n",
    "sample_mean = 2.7\n",
    "sample_std = 0.4\n",
    "mu_0 = 2.5\n",
    "\n",
    "mean_based_z_test(mu_0, sample_mean, sample_std, n)"
   ]
  },
  {
   "cell_type": "markdown",
   "metadata": {},
   "source": [
    "Question 6: Average Daily Water Consumption  \n",
    "Scenario: A city claims that the average daily water consumption per household is 150 liters. A sample of 50 households shows an average consumption of 145 liters with a standard deviation of 12 liters.  \n",
    "Task: Test the city's claim at a 5% significance level."
   ]
  },
  {
   "cell_type": "code",
   "execution_count": 7,
   "metadata": {},
   "outputs": [
    {
     "name": "stdout",
     "output_type": "stream",
     "text": [
      "p-value 0.0032162293101274386\n",
      "The null hypothesis can be rejected.\n"
     ]
    }
   ],
   "source": [
    "n = 50\n",
    "sample_mean = 145\n",
    "sample_std = 12\n",
    "mu_0 = 150\n",
    "\n",
    "mean_based_z_test(mu_0, sample_mean, sample_std, n)"
   ]
  },
  {
   "cell_type": "markdown",
   "metadata": {},
   "source": [
    "Question 7: Average SAT Scores  \n",
    "Scenario: A school district claims that their students have an average SAT score of 1050. A sample of 100 students shows an average score of 1020 with a standard deviation of 50 points.  \n",
    "Task: Test the school district's claim at a 5% significance level.  "
   ]
  },
  {
   "cell_type": "code",
   "execution_count": 8,
   "metadata": {},
   "outputs": [
    {
     "name": "stdout",
     "output_type": "stream",
     "text": [
      "p-value 1.973175400848959e-09\n",
      "The null hypothesis can be rejected.\n"
     ]
    }
   ],
   "source": [
    "n = 100\n",
    "sample_mean = 1020\n",
    "sample_std = 50\n",
    "mu_0 = 1050\n",
    "\n",
    "mean_based_z_test(mu_0, sample_mean, sample_std, n)"
   ]
  },
  {
   "cell_type": "markdown",
   "metadata": {},
   "source": [
    "Question 8: Average Time Spent Exercising  \n",
    "Scenario: A fitness app claims that its users spend an average of 45 minutes exercising daily. A sample of 70 users shows an average exercise time of 42 minutes with a standard deviation of 6 minutes.  \n",
    "Task: Test the app's claim at a 5% significance level."
   ]
  },
  {
   "cell_type": "code",
   "execution_count": 9,
   "metadata": {},
   "outputs": [
    {
     "name": "stdout",
     "output_type": "stream",
     "text": [
      "p-value 2.8730768435014653e-05\n",
      "The null hypothesis can be rejected.\n"
     ]
    }
   ],
   "source": [
    "n = 70\n",
    "sample_mean = 42\n",
    "sample_std = 6\n",
    "mu_0 = 45\n",
    "\n",
    "mean_based_z_test(mu_0, sample_mean, sample_std, n)"
   ]
  },
  {
   "cell_type": "markdown",
   "metadata": {},
   "source": [
    "Question 9: Average Monthly Rent  \n",
    "Scenario: A real estate company claims that the average monthly rent in a particular city is $1,200. A sample of 55 apartments shows an average rent of $1,150 with a standard deviation of $100.  \n",
    "Task: Test the real estate company's claim at a 5% significance level."
   ]
  },
  {
   "cell_type": "code",
   "execution_count": 10,
   "metadata": {},
   "outputs": [
    {
     "name": "stdout",
     "output_type": "stream",
     "text": [
      "p-value 0.00020882081970996502\n",
      "The null hypothesis can be rejected.\n"
     ]
    }
   ],
   "source": [
    "n = 55\n",
    "sample_mean = 1150\n",
    "sample_std = 100\n",
    "mu_0 = 1200\n",
    "\n",
    "mean_based_z_test(mu_0, sample_mean, sample_std, n)"
   ]
  },
  {
   "cell_type": "markdown",
   "metadata": {},
   "source": [
    "Question 10: Average Weight Loss  \n",
    "Scenario: A weight loss program claims that participants lose an average of 10 kg in 3 months. A sample of 30 participants shows an average weight loss of 9.2 kg with a standard deviation of 1.5 kg.  \n",
    "Task: Test the program's claim at a 5% significance level."
   ]
  },
  {
   "cell_type": "code",
   "execution_count": 11,
   "metadata": {},
   "outputs": [
    {
     "name": "stdout",
     "output_type": "stream",
     "text": [
      "p-value 0.0034870048921413765\n",
      "The null hypothesis can be rejected.\n"
     ]
    }
   ],
   "source": [
    "n = 30\n",
    "sample_mean = 9.2\n",
    "sample_std = 1.5\n",
    "mu_0 = 10\n",
    "\n",
    "mean_based_z_test(mu_0, sample_mean, sample_std, n)"
   ]
  },
  {
   "cell_type": "markdown",
   "metadata": {},
   "source": []
  }
 ],
 "metadata": {
  "kernelspec": {
   "display_name": "env",
   "language": "python",
   "name": "python3"
  },
  "language_info": {
   "codemirror_mode": {
    "name": "ipython",
    "version": 3
   },
   "file_extension": ".py",
   "mimetype": "text/x-python",
   "name": "python",
   "nbconvert_exporter": "python",
   "pygments_lexer": "ipython3",
   "version": "3.12.3"
  }
 },
 "nbformat": 4,
 "nbformat_minor": 2
}
