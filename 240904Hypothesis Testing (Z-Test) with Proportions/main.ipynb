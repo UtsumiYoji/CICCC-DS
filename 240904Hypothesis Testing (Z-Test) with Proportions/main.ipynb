{
 "cells": [
  {
   "cell_type": "code",
   "execution_count": 2,
   "metadata": {},
   "outputs": [],
   "source": [
    "import numpy as np\n",
    "from scipy import stats"
   ]
  },
  {
   "cell_type": "code",
   "execution_count": 39,
   "metadata": {},
   "outputs": [],
   "source": [
    "def one_proportion_test(successes, n, p0, tail, significance_level=0.05):\n",
    "    p = successes / n\n",
    "    z = (p - p0) / np.sqrt(p0 * (1 - p0) / n)\n",
    "\n",
    "    if tail == 'left':\n",
    "        p_value = stats.norm.cdf(z)\n",
    "    elif tail == 'right':\n",
    "        p_value = 1 - stats.norm.cdf(z)\n",
    "    elif tail == 'both':\n",
    "        p_value = 2 * (1 - stats.norm.cdf(np.abs(z)))\n",
    "    \n",
    "    if p_value < significance_level:\n",
    "        print(\"The null hypothesis can be rejected.\")\n",
    "    else:\n",
    "        print(\"The null hypothesis can be approved.\")\n",
    "\n",
    "def two_proportion_test(successes1, n1, successes2, n2, tail, significance_level=0.05):\n",
    "    p1 = successes1 / n1\n",
    "    p2 = successes2 / n2\n",
    "    p = (successes1 + successes2) / (n1 + n2)\n",
    "    z = (p1 - p2) / np.sqrt(p * (1 - p) * (1 / n1 + 1 / n2))\n",
    "    \n",
    "    if tail == 'left':\n",
    "        p_value = stats.norm.cdf(z)\n",
    "    elif tail == 'right':\n",
    "        p_value = 1 - stats.norm.cdf(z)\n",
    "    elif tail == 'both':\n",
    "        p_value = 2 * (1 - stats.norm.cdf(np.abs(z)))\n",
    "    \n",
    "    if p_value < significance_level:\n",
    "        print(\"The null hypothesis can be rejected.\")\n",
    "    else:\n",
    "        print(\"The null hypothesis can be approved.\")"
   ]
  },
  {
   "cell_type": "markdown",
   "metadata": {},
   "source": [
    "Question 1: One-Proportion z-test (Right-tailed Test)  \n",
    "Scenario: A university claims that at least 65% of its graduates secure a job within six months of graduation. You survey 200 graduates and find that 120 of them are employed within six months. At a 5% significance level, test if the university's claim holds.  \n",
    "\n",
    "Instructions:\n",
    "1. State the null and alternative hypotheses.\n",
    "2. Use the one-proportion z-test formula to calculate the test statistic.\n",
    "3. Calculate the p-value and draw a conclusion based on the significance level."
   ]
  },
  {
   "cell_type": "code",
   "execution_count": 24,
   "metadata": {},
   "outputs": [
    {
     "name": "stdout",
     "output_type": "stream",
     "text": [
      "Ho: p = 0.65\n",
      "Ha: p > 0.65\n",
      "The null hypothesis can be approved.\n"
     ]
    }
   ],
   "source": [
    "print(\"Ho: p = 0.65\")\n",
    "print(\"Ha: p > 0.65\")\n",
    "one_proportion_test(120, 200, 0.65, 'right')"
   ]
  },
  {
   "cell_type": "markdown",
   "metadata": {},
   "source": [
    "Question 2: Two-Proportion z-test (Two-tailed Test)  \n",
    "Scenario: A sports team wants to compare the proportion of people attending their home games to those attending away games. Out of 300 home games, 180 attendees showed up. Out of 250 away games, 140 attendees showed up. At a 5% significance level, is there a significant difference between the proportions of attendees at home and away games?\n",
    "\n",
    "Instructions:\n",
    "1. State the null and alternative hypotheses.\n",
    "2. Use the two-proportion z-test formula to calculate the test statistic.\n",
    "3. Calculate the p-value and draw a conclusion based on the significance level."
   ]
  },
  {
   "cell_type": "code",
   "execution_count": 34,
   "metadata": {},
   "outputs": [
    {
     "name": "stdout",
     "output_type": "stream",
     "text": [
      "Ho: p1 = p2\n",
      "Ha: p1 != p2\n",
      "The null hypothesis can be rejected.\n"
     ]
    }
   ],
   "source": [
    "print(\"Ho: p1 = p2\")\n",
    "print(\"Ha: p1 != p2\")\n",
    "two_proportion_test(180, 300, 250, 140, 'both')"
   ]
  },
  {
   "cell_type": "markdown",
   "metadata": {},
   "source": [
    "Question 3: One-Proportion z-test (Left-tailed Test)  \n",
    "Scenario: A school claims that at least 75% of its students pass a standardized exam. You survey 150 students and find that 100 of them passed. Is the school's\n",
    "claim valid at the 5% significance level?\n",
    "\n",
    "Instructions:\n",
    "1. State the null and alternative hypotheses.\n",
    "2. Use the one-proportion z-test formula to calculate the test statistic.\n",
    "3. Calculate the p-value and draw a conclusion based on the significance level."
   ]
  },
  {
   "cell_type": "code",
   "execution_count": 36,
   "metadata": {},
   "outputs": [
    {
     "name": "stdout",
     "output_type": "stream",
     "text": [
      "Ho: p = 0.75\n",
      "Ha: p < 0.75\n",
      "The null hypothesis can be rejected.\n"
     ]
    }
   ],
   "source": [
    "print(\"Ho: p = 0.75\")\n",
    "print(\"Ha: p < 0.75\")\n",
    "one_proportion_test(100, 150, 0.75, 'left')"
   ]
  },
  {
   "cell_type": "markdown",
   "metadata": {},
   "source": [
    "Question 4: Two-Proportion z-test (Right-tailed Test)  \n",
    "Scenario: A company is comparing the promotion rates between male and female employees. The company claims that males are promoted at a higher rate than females. Out of 80 male employees, 45 have been promoted, and out of 70 female employees, 35 have been promoted. Test if males are promoted at a higher rate than females at the 5% significance level.\n",
    "\n",
    "Instructions:\n",
    "1. State the null and alternative hypotheses.\n",
    "2. Use the two-proportion z-test formula to calculate the test statistic.\n",
    "3. Calculate the p-value and draw a conclusion based on the significance level."
   ]
  },
  {
   "cell_type": "code",
   "execution_count": 40,
   "metadata": {},
   "outputs": [
    {
     "name": "stdout",
     "output_type": "stream",
     "text": [
      "Ho: p1 = p2\n",
      "Ha: p1 > p2\n",
      "The null hypothesis can be approved.\n"
     ]
    }
   ],
   "source": [
    "print(\"Ho: p1 = p2\")\n",
    "print(\"Ha: p1 > p2\")\n",
    "two_proportion_test(45, 80, 35, 70, 'right')"
   ]
  },
  {
   "cell_type": "markdown",
   "metadata": {},
   "source": [
    "Question 5: One-Proportion z-test (Two-tailed Test)  \n",
    "Scenario: A car dealership claims that 40% of their sales come from repeat customers. You sample 100 sales records and find that 30 of them are from repeat customers. Test whether the dealership's claim is accurate at a 5% significance level.\n",
    "\n",
    "Instructions:\n",
    "1. State the null and alternative hypotheses.\n",
    "2. Use the one-proportion z-test formula to calculate the test statistic.\n",
    "3. Calculate the p-value and draw a conclusion based on the significance level."
   ]
  },
  {
   "cell_type": "code",
   "execution_count": 28,
   "metadata": {},
   "outputs": [
    {
     "name": "stdout",
     "output_type": "stream",
     "text": [
      "Ho: p = 0.4\n",
      "Ha: p != 0.4\n",
      "The null hypothesis can be rejected.\n"
     ]
    }
   ],
   "source": [
    "print(\"Ho: p = 0.4\")\n",
    "print(\"Ha: p != 0.4\")\n",
    "one_proportion_test(30, 100, 0.4, 'both')"
   ]
  }
 ],
 "metadata": {
  "kernelspec": {
   "display_name": "env",
   "language": "python",
   "name": "python3"
  },
  "language_info": {
   "codemirror_mode": {
    "name": "ipython",
    "version": 3
   },
   "file_extension": ".py",
   "mimetype": "text/x-python",
   "name": "python",
   "nbconvert_exporter": "python",
   "pygments_lexer": "ipython3",
   "version": "3.12.3"
  }
 },
 "nbformat": 4,
 "nbformat_minor": 2
}
