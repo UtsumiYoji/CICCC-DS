{
 "cells": [
  {
   "cell_type": "code",
   "execution_count": 8,
   "metadata": {},
   "outputs": [],
   "source": [
    "from scipy import stats\n",
    "\n",
    "def one_sample_ttest(data, mean, alpha=0.05):\n",
    "    _, p = stats.ttest_1samp(data, mean)\n",
    "\n",
    "    if p < alpha:\n",
    "        print(f\"Null hypothesis rejected, p-value: {p}\")\n",
    "    else:\n",
    "        print(f\"Null hypothesis approved, p-value: {p}\")\n",
    "\n",
    "def two_sample_ttest(data1, data2, alpha=0.05):\n",
    "    _, p = stats.ttest_ind(data1, data2)\n",
    "\n",
    "    print(\"Null hypothesis: There is no difference between the two samples\")\n",
    "    if p < alpha:\n",
    "        print(f\"Null hypothesis rejected, p-value: {p}\")\n",
    "    else:\n",
    "        print(f\"Null hypothesis approved, p-value: {p}\")"
   ]
  },
  {
   "cell_type": "markdown",
   "metadata": {},
   "source": [
    "Exercise 1: One-Sample T-Test - Mean Weight of a Population  \n",
    "You have a sample of weights (in kg) from a certain population. Test the hypothesis that the mean weight is 70 kg.  \n",
    "Sample: [72, 68, 75, 71, 69, 70, 73, 68]  \n",
    "Null Hypothesis: The population mean is 70 kg.  \n",
    "Task: Conduct a one-sample t-test to verify if the population mean is statistically different from 70 kg."
   ]
  },
  {
   "cell_type": "code",
   "execution_count": 4,
   "metadata": {},
   "outputs": [
    {
     "name": "stdout",
     "output_type": "stream",
     "text": [
      "Null hypothesis approved, p-value: 0.42294092668021854\n"
     ]
    }
   ],
   "source": [
    "one_sample_ttest([72, 68, 75, 71, 69, 70, 73, 68], 70)"
   ]
  },
  {
   "cell_type": "markdown",
   "metadata": {},
   "source": [
    "Exercise 2: One-Sample T-Test - Average Height of Students  \n",
    "A school claims the average height of its students is 165 cm. You take a random sample of 10 students:\n",
    "Sample: [164, 162, 168, 167, 165, 166, 160, 159, 170, 163]  \n",
    "Null Hypothesis: The mean height is 165 cm.  \n",
    "Task: Test the school’s claim using a one-sample t-test.  "
   ]
  },
  {
   "cell_type": "code",
   "execution_count": 5,
   "metadata": {},
   "outputs": [
    {
     "name": "stdout",
     "output_type": "stream",
     "text": [
      "Null hypothesis approved, p-value: 0.6011521875426783\n"
     ]
    }
   ],
   "source": [
    "one_sample_ttest([164, 162, 168, 167, 165, 166, 160, 159, 170, 163], 165)"
   ]
  },
  {
   "cell_type": "markdown",
   "metadata": {},
   "source": [
    "Exercise 3: One-Sample T-Test - Customer Satisfaction Scores  \n",
    "A company claims their average customer satisfaction score is 4.5 out of 5. You sample 12 customers:  \n",
    "Sample: [4.2, 4.4, 4.5, 4.7, 4.5, 4.6, 4.4, 4.3, 4.5, 4.6, 4.2, 4.5]  \n",
    "Null Hypothesis: The mean satisfaction score is 4.5.  \n",
    "Task: Conduct a one-sample t-test to evaluate the company’s claim."
   ]
  },
  {
   "cell_type": "code",
   "execution_count": 7,
   "metadata": {},
   "outputs": [
    {
     "name": "stdout",
     "output_type": "stream",
     "text": [
      "Null hypothesis approved, p-value: 0.2925184553957747\n"
     ]
    }
   ],
   "source": [
    "one_sample_ttest([4.2, 4.4, 4.5, 4.7, 4.5, 4.6, 4.4, 4.3, 4.5, 4.6, 4.2, 4.5], 4.5)"
   ]
  },
  {
   "cell_type": "markdown",
   "metadata": {},
   "source": [
    "Exercise 4: Two-Sample T-Test - Exam Scores of Two Classes  \n",
    "Compare the exam scores of two different classes:  \n",
    "Class A: [85, 78, 90, 88, 84, 91, 89]  \n",
    "Class B: [82, 80, 88, 86, 85, 79, 87]  \n",
    "Task: Perform a two-sample t-test to check if there is a significant difference in the mean exam scores between the two classes.  "
   ]
  },
  {
   "cell_type": "code",
   "execution_count": 9,
   "metadata": {},
   "outputs": [
    {
     "name": "stdout",
     "output_type": "stream",
     "text": [
      "Null hypothesis: There is no difference between the two samples\n",
      "Null hypothesis approved, p-value: 0.257584411334151\n"
     ]
    }
   ],
   "source": [
    "two_sample_ttest([85, 78, 90, 88, 84, 91, 89], [82, 80, 88, 86, 85, 79, 87])"
   ]
  },
  {
   "cell_type": "markdown",
   "metadata": {},
   "source": [
    "Exercise 5: Two-Sample T-Test - Sales Performance Before and After Training  \n",
    "A sales team underwent a training program, and their sales were recorded before and after the training:  \n",
    "Before: [1200, 1300, 1250, 1400, 1350, 1500]  \n",
    "After: [1450, 1380, 1550, 1600, 1500, 1580]  \n",
    "Task: Conduct a two-sample t-test to assess if the training significantly improved sales performance."
   ]
  },
  {
   "cell_type": "code",
   "execution_count": 10,
   "metadata": {},
   "outputs": [
    {
     "name": "stdout",
     "output_type": "stream",
     "text": [
      "Null hypothesis: There is no difference between the two samples\n",
      "Null hypothesis rejected, p-value: 0.010090540561009647\n"
     ]
    }
   ],
   "source": [
    "two_sample_ttest([1200, 1300, 1250, 1400, 1350, 1500], [1450, 1380, 1550, 1600, 1500, 1580])"
   ]
  },
  {
   "cell_type": "markdown",
   "metadata": {},
   "source": [
    "Exercise 6: Two-Sample T-Test - Blood Pressure Medication  \n",
    "You are given two groups: one taking a blood pressure medication and one taking a placebo. Their blood pressure reduction is measured:  \n",
    "Medication group: [10, 12, 9, 14, 11, 13]  \n",
    "Placebo group: [3, 5, 2, 4, 6, 5]  \n",
    "Task: Use a two-sample t-test to determine whether the medication has a statistically significant effect on blood pressure."
   ]
  },
  {
   "cell_type": "code",
   "execution_count": 11,
   "metadata": {},
   "outputs": [
    {
     "name": "stdout",
     "output_type": "stream",
     "text": [
      "Null hypothesis: There is no difference between the two samples\n",
      "Null hypothesis rejected, p-value: 1.9570173447435993e-05\n"
     ]
    }
   ],
   "source": [
    "two_sample_ttest([10, 12, 9, 14, 11, 13], [3, 5, 2, 4, 6, 5])"
   ]
  },
  {
   "cell_type": "markdown",
   "metadata": {},
   "source": [
    "Exercise 7: One-Sample T-Test - Test if a Coin is Fair You flip a coin 100 times, and it lands on heads 58 times. A fair coin should have 50 heads out of 100 flips.  \n",
    "Null Hypothesis: The proportion of heads is 0.50.  \n",
    "Task: Perform a one-sample t-test on the proportion of heads to determine if the coin is biased.  "
   ]
  },
  {
   "cell_type": "code",
   "execution_count": 14,
   "metadata": {},
   "outputs": [
    {
     "name": "stdout",
     "output_type": "stream",
     "text": [
      "Null hypothesis approved, p-value: 0.10998066941759069\n"
     ]
    }
   ],
   "source": [
    "data = [1] * 58 + [0] * 42\n",
    "one_sample_ttest(data, 0.5)"
   ]
  },
  {
   "cell_type": "markdown",
   "metadata": {},
   "source": [
    "Exercise 8: Two-Sample T-Test - Comparison of Test Scores  \n",
    "A researcher believes that students who study with music perform differently than those who study in silence. You have two groups:  \n",
    "Music: [80, 85, 78, 90, 87, 76]  \n",
    "Silence: [88, 82, 84, 89, 91, 85]  \n",
    "Task: Use a two-sample t-test to compare the test scores of both groups and determine if the difference is significant."
   ]
  },
  {
   "cell_type": "code",
   "execution_count": 15,
   "metadata": {},
   "outputs": [
    {
     "name": "stdout",
     "output_type": "stream",
     "text": [
      "Null hypothesis: There is no difference between the two samples\n",
      "Null hypothesis approved, p-value: 0.1768975161673121\n"
     ]
    }
   ],
   "source": [
    "two_sample_ttest([80, 85, 78, 90, 87, 76], [88, 82, 84, 89, 91, 85])"
   ]
  },
  {
   "cell_type": "markdown",
   "metadata": {},
   "source": [
    "Exercise 9: One-Sample T-Test - Average Lifespan of a Product  \n",
    "A manufacturer claims that the average lifespan of their product is 5 years. A sample of products shows these lifespans:  \n",
    "Sample: [4.8, 5.1, 4.9, 5.3, 4.7, 5.2, 5.0, 4.9]  \n",
    "Task: Perform a one-sample t-test to check if the manufacturer’s claim is statistically valid."
   ]
  },
  {
   "cell_type": "code",
   "execution_count": 16,
   "metadata": {},
   "outputs": [
    {
     "name": "stdout",
     "output_type": "stream",
     "text": [
      "Null hypothesis approved, p-value: 0.8667318497550061\n"
     ]
    }
   ],
   "source": [
    "one_sample_ttest([4.8, 5.1, 4.9, 5.3, 4.7, 5.2, 5.0, 4.9], 5)"
   ]
  },
  {
   "cell_type": "markdown",
   "metadata": {},
   "source": [
    "Exercise 10: Two-Sample T-Test - Average Income of Two Cities  \n",
    "Compare the average income of two cities based on a sample of residents:  \n",
    "City A: [45000, 48000, 47000, 50000, 49000, 46000]\n",
    "City B: [43000, 42000, 44000, 41000, 45000, 43000]\n",
    "Task: Conduct a two-sample t-test to determine if there is a significant difference in income between the two cities."
   ]
  },
  {
   "cell_type": "code",
   "execution_count": 17,
   "metadata": {},
   "outputs": [
    {
     "name": "stdout",
     "output_type": "stream",
     "text": [
      "Null hypothesis: There is no difference between the two samples\n",
      "Null hypothesis rejected, p-value: 0.0008414426956321737\n"
     ]
    }
   ],
   "source": [
    "two_sample_ttest([45000, 48000, 47000, 50000, 49000, 46000], [43000, 42000, 44000, 41000, 45000, 43000])"
   ]
  }
 ],
 "metadata": {
  "kernelspec": {
   "display_name": "env",
   "language": "python",
   "name": "python3"
  },
  "language_info": {
   "codemirror_mode": {
    "name": "ipython",
    "version": 3
   },
   "file_extension": ".py",
   "mimetype": "text/x-python",
   "name": "python",
   "nbconvert_exporter": "python",
   "pygments_lexer": "ipython3",
   "version": "3.12.3"
  }
 },
 "nbformat": 4,
 "nbformat_minor": 2
}
