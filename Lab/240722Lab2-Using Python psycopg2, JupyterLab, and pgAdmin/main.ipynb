{
 "cells": [
  {
   "cell_type": "markdown",
   "metadata": {},
   "source": [
    "# Lab 2: Using Python psycopg2, JupyterLab, and pgAdmin"
   ]
  },
  {
   "cell_type": "markdown",
   "metadata": {},
   "source": [
    "## Step3: Connect to the Database"
   ]
  },
  {
   "cell_type": "code",
   "execution_count": 18,
   "metadata": {},
   "outputs": [],
   "source": [
    "import psycopg2\n",
    "\n",
    "passward = input(\"Enter passward: \")\n",
    "\n",
    "dsn = \"dbname=lab2 host=localhost user=postgres password=\" + passward\n",
    "conn = psycopg2.connect(dsn)\n",
    "cur = conn.cursor()"
   ]
  },
  {
   "cell_type": "markdown",
   "metadata": {},
   "source": [
    "## Step 4: Create a Table"
   ]
  },
  {
   "cell_type": "code",
   "execution_count": 4,
   "metadata": {},
   "outputs": [],
   "source": [
    "cur.execute(\n",
    "    \"CREATE TABLE test (\"\n",
    "        \"id SERIAL PRIMARY KEY,\"\n",
    "        \"num integer,\"\n",
    "        \"data varchar\"\n",
    "    \")\"\n",
    ")\n",
    "\n",
    "conn.commit()"
   ]
  },
  {
   "cell_type": "markdown",
   "metadata": {},
   "source": [
    "## Step 5: Insert Data"
   ]
  },
  {
   "cell_type": "code",
   "execution_count": 5,
   "metadata": {},
   "outputs": [],
   "source": [
    "cur.execute(\n",
    "    \"INSERT INTO test (num, data) VALUES (%s, %s)\", (100, \"abc'def\")\n",
    "    )\n",
    "\n",
    "conn.commit()"
   ]
  },
  {
   "cell_type": "markdown",
   "metadata": {},
   "source": [
    "## Step 6: Query Data"
   ]
  },
  {
   "cell_type": "code",
   "execution_count": 7,
   "metadata": {},
   "outputs": [
    {
     "data": {
      "text/plain": [
       "[(1, 100, \"abc'def\")]"
      ]
     },
     "execution_count": 7,
     "metadata": {},
     "output_type": "execute_result"
    }
   ],
   "source": [
    "cur.execute(\"SELECT * FROM test;\")\n",
    "cur.fetchall()"
   ]
  },
  {
   "cell_type": "markdown",
   "metadata": {},
   "source": [
    "## Exercise\n",
    "### Exercise 1: Create a New Table"
   ]
  },
  {
   "cell_type": "code",
   "execution_count": 8,
   "metadata": {},
   "outputs": [],
   "source": [
    "cur.execute(\n",
    "    \"CREATE TABLE departments (\"\n",
    "        \"id SERIAL PRIMARY KEY,\"\n",
    "        \"name text\"\n",
    "    \")\"\n",
    ")\n",
    "\n",
    "conn.commit()"
   ]
  },
  {
   "cell_type": "markdown",
   "metadata": {},
   "source": [
    "### Exercise 2: Insert Data into the Table"
   ]
  },
  {
   "cell_type": "code",
   "execution_count": 13,
   "metadata": {},
   "outputs": [],
   "source": [
    "cur.execute(\n",
    "    \"INSERT INTO departments (id, name) VALUES (1, 'HR');\"\n",
    "    \"INSERT INTO departments (id, name) VALUES (2, 'IT');\"\n",
    "    \"INSERT INTO departments (id, name) VALUES (3, 'IR');\"\n",
    "    )\n",
    "\n",
    "conn.commit()"
   ]
  },
  {
   "cell_type": "markdown",
   "metadata": {},
   "source": [
    "### Exercise 3: Query Data from Both Tables"
   ]
  },
  {
   "cell_type": "code",
   "execution_count": 16,
   "metadata": {},
   "outputs": [
    {
     "name": "stdout",
     "output_type": "stream",
     "text": [
      "[(1, 'HR'), (2, 'IT'), (3, 'IR')]\n",
      "[(1, 'Alice', 30, 'HR'), (2, 'Bob', 25, 'Engineering'), (3, 'Charlie', 35, 'Marketing')]\n"
     ]
    }
   ],
   "source": [
    "cur.execute(\"SELECT * FROM departments;\")\n",
    "print(cur.fetchall())\n",
    "\n",
    "cur.execute(\"SELECT * FROM employees;\")\n",
    "print(cur.fetchall())"
   ]
  },
  {
   "cell_type": "markdown",
   "metadata": {},
   "source": [
    "### Exercise 4: Update Data"
   ]
  },
  {
   "cell_type": "code",
   "execution_count": 20,
   "metadata": {},
   "outputs": [
    {
     "data": {
      "text/plain": [
       "[(2, 'Bob', 25, 'Engineering'),\n",
       " (3, 'Charlie', 35, 'Marketing'),\n",
       " (1, 'Alice', 20, 'HR')]"
      ]
     },
     "execution_count": 20,
     "metadata": {},
     "output_type": "execute_result"
    }
   ],
   "source": [
    "cur.execute(\n",
    "    \"UPDATE employees \"\n",
    "    \"SET age = 20 \"\n",
    "    \"WHERE id = 1;\"\n",
    "    )\n",
    "\n",
    "conn.commit()\n",
    "\n",
    "cur.execute(\"SELECT * FROM employees;\")\n",
    "cur.fetchall()"
   ]
  },
  {
   "cell_type": "markdown",
   "metadata": {},
   "source": [
    "### Exercise 5: Delete Data"
   ]
  },
  {
   "cell_type": "code",
   "execution_count": 21,
   "metadata": {},
   "outputs": [
    {
     "data": {
      "text/plain": [
       "[(2, 'Bob', 25, 'Engineering'), (1, 'Alice', 20, 'HR')]"
      ]
     },
     "execution_count": 21,
     "metadata": {},
     "output_type": "execute_result"
    }
   ],
   "source": [
    "cur.execute(\n",
    "    \"DELETE FROM employees \"\n",
    "    \"WHERE id = 3;\"\n",
    "    )\n",
    "\n",
    "conn.commit()\n",
    "\n",
    "cur.execute(\"SELECT * FROM employees;\")\n",
    "cur.fetchall()"
   ]
  }
 ],
 "metadata": {
  "kernelspec": {
   "display_name": "env",
   "language": "python",
   "name": "python3"
  },
  "language_info": {
   "codemirror_mode": {
    "name": "ipython",
    "version": 3
   },
   "file_extension": ".py",
   "mimetype": "text/x-python",
   "name": "python",
   "nbconvert_exporter": "python",
   "pygments_lexer": "ipython3",
   "version": "3.12.3"
  }
 },
 "nbformat": 4,
 "nbformat_minor": 2
}
